{
 "cells": [
  {
   "cell_type": "markdown",
   "metadata": {
    "_cell_guid": "d524ad8f-d024-4ba3-8bbc-2435ec3d0dba",
    "_uuid": "7bb30a6f2a18be45a491092a6e2dfcdcce71a2a0"
   },
   "source": [
    "## GA Capstone Project\n",
    "# TensorFlow Speech Recognition Challenge\n",
    "This notebook builds a light-weight CNN to address the TensorFlow Speech Recognition Challenge. BingQuing Wei and DavidS provided the audio to spectrogram insight along with the initial Keras CNN insight.\n",
    "\n",
    "The original training set wave files are sampled at 16000. To cut down on processing time they are resampled at a rate of 8000.\n",
    "\n",
    "Current best LB is 0.73. Epoch set to 10. (Sample rate halfed to 8000 from 16000)\n",
    "\n",
    "Link: https://www.kaggle.com/c/tensorflow-speech-recognition-challenge\n",
    "\n",
    "\n",
    "\n",
    "## File Structure\n",
    "The current file strucuture for running this notebook:\n",
    "\n",
    "speechCap\n",
    "\n",
    "├── test            \n",
    "\n",
    "│   └── audio #test wavfiles\n",
    "\n",
    "├── train           \n",
    "\n",
    "│   ├── audio #train wavfiles\n",
    "\n",
    "└── model #store models\n",
    "\n",
    "│\n",
    "\n",
    "└── out #store sub.csv\n",
    "\n",
    "## Techniques to improve the current score\n",
    "This is a light model for quick scoring. Improvements will come by:\n",
    "\n",
    "1. Use original wav files instead resampled ones.\n",
    "2. Create more 'silence' wav files using chop_audio.\n",
    "3. Build deeper CNN or use RNN.\n",
    "4. Train for longer epochs\n",
    "5. Use Transfer Learning - take a NN that has been trained on a similar data set, and retrain the last few layers of the network for new categories.\n",
    "6. Vary the hyperparameters:\n",
    " - Train for additional epochs\n",
    " - Try dropout rates btw 0.2 - 0.35\n",
    " - Try SGD and other optimization functions\n",
    " - Vary the learning rate (lower learning rate = reliable but long training. Higher learning rate = training may not converge or may overshoot but training will be faster.)\n",
    "\n",
    "## TensorFlow tutorial \n",
    "The baseline for the TensorFlow tutorial is 0.88.\n",
    "Link: https://www.tensorflow.org/versions/master/tutorials/audio_recognition\n",
    "\n",
    "\n",
    "## Appendix\n",
    "__BingQing Wei__ provided excellent insight with his notebook on this data."
   ]
  },
  {
   "cell_type": "code",
   "execution_count": 26,
   "metadata": {
    "_cell_guid": "f7fd8bcb-4451-4d47-bfe8-491c94b3b4eb",
    "_uuid": "712710f20b00f97271136cfeab9937a4c6a2458b"
   },
   "outputs": [],
   "source": [
    "import os\n",
    "import numpy as np\n",
    "from scipy.fftpack import fft\n",
    "from scipy.io import wavfile\n",
    "from scipy import signal\n",
    "from glob import glob\n",
    "import re\n",
    "import pandas as pd\n",
    "import gc\n",
    "\n",
    "from keras import optimizers, losses, activations, models\n",
    "# Core layers and Convolutional layers that help train on image data\n",
    "from keras.layers import Convolution2D, Dense, Input, Flatten, Dropout, MaxPooling2D, BatchNormalization\n",
    "from sklearn.model_selection import train_test_split\n",
    "from sklearn.metrics import classification_report\n",
    "import keras\n",
    "\n",
    "import matplotlib.pyplot as plt\n",
    "%matplotlib inline"
   ]
  },
  {
   "cell_type": "markdown",
   "metadata": {
    "_cell_guid": "fb35a2f1-9301-4693-a9ef-9d180b630f05",
    "_uuid": "4b1ba61998e14e15c822c605dbe5961bfed36014"
   },
   "source": [
    "The original sample rate is 16000, and we will resample it to 8000 to reduce data size."
   ]
  },
  {
   "cell_type": "code",
   "execution_count": 22,
   "metadata": {
    "_cell_guid": "dc66e1df-f1eb-4df4-ba1a-65b9f1675953",
    "_uuid": "4cc586519523b28d1d595716d8709ace9f27ac9c"
   },
   "outputs": [
    {
     "name": "stdout",
     "output_type": "stream",
     "text": [
      ".\\train\\audio\n",
      ".\\test\\audio\n"
     ]
    }
   ],
   "source": [
    "L = 16000\n",
    "legal_labels = 'yes no up down left right on off stop go silence unknown'.split()\n",
    "\n",
    "#src folders`\n",
    "#root_path = r'..'\n",
    "root_path = r'.'\n",
    "out_path = r'./out'\n",
    "model_path = r'./model'\n",
    "train_data_path = os.path.join(root_path, 'train', 'audio')\n",
    "test_data_path = os.path.join(root_path,  'test', 'audio')\n",
    "\n",
    "print(train_data_path)    #debug\n",
    "print(test_data_path)     #debug"
   ]
  },
  {
   "cell_type": "markdown",
   "metadata": {},
   "source": [
    "# EDA - sample spectrogram\n",
    "- one example for 'yes' audio file"
   ]
  },
  {
   "cell_type": "code",
   "execution_count": 30,
   "metadata": {},
   "outputs": [
    {
     "data": {
      "image/png": "[encoded data removed]",
      "text/plain": [
       "<matplotlib.figure.Figure at 0x7ea77908>"
      ]
     },
     "metadata": {},
     "output_type": "display_data"
    }
   ],
   "source": [
    "filename = '/yes/0a7c2a8d_nohash_0.wav'\n",
    "sample_rate, samples = wavfile.read(str(train_data_path) + filename)\n",
    "frequencies, times, spectogram = signal.spectrogram(samples, sample_rate)\n",
    "\n",
    "\n",
    "plt.pcolormesh(times, frequencies, spectogram)\n",
    "plt.ylabel('Frequency [Hz]')\n",
    "plt.xlabel('Time [sec]')\n",
    "plt.show()"
   ]
  },
  {
   "cell_type": "markdown",
   "metadata": {
    "_cell_guid": "e53561e4-1c98-44c0-9245-d87f7957faa5",
    "_uuid": "d9a08781f22e574bb1eb0dc29adeb8dddebc8b51"
   },
   "source": [
    "custom_fft and log_specgram functions. These were written by __DavidS__.\n",
    "Taking the audio files and converting them to images for analysis by CNN."
   ]
  },
  {
   "cell_type": "code",
   "execution_count": 14,
   "metadata": {
    "_cell_guid": "0fd0b579-8b6f-4253-bf3a-7f75115a42d6",
    "_uuid": "e7ea2c277b6459e532721452ec3cd80d585eae1e"
   },
   "outputs": [],
   "source": [
    "def custom_fft(y, fs):\n",
    "    T = 1.0 / fs\n",
    "    N = y.shape[0]\n",
    "    yf = fft(y)\n",
    "    xf = np.linspace(0.0, 1.0/(2.0*T), N//2)\n",
    "    # FFT is simmetrical, so we take just the first half\n",
    "    # FFT is also complex, to we take just the real part (abs)\n",
    "    vals = 2.0/N * np.abs(yf[0:N//2])\n",
    "    return xf, vals\n",
    "\n",
    "def log_specgram(audio, sample_rate, window_size=20,\n",
    "                 step_size=10, eps=1e-10):\n",
    "    nperseg = int(round(window_size * sample_rate / 1e3))\n",
    "    noverlap = int(round(step_size * sample_rate / 1e3))\n",
    "    freqs, times, spec = signal.spectrogram(audio,\n",
    "                                    fs=sample_rate,\n",
    "                                    window='hann',\n",
    "                                    nperseg=nperseg,\n",
    "                                    noverlap=noverlap,\n",
    "                                    detrend=False)\n",
    "    return freqs, times, np.log(spec.T.astype(np.float32) + eps)"
   ]
  },
  {
   "cell_type": "markdown",
   "metadata": {
    "_cell_guid": "c54cda36-777e-4129-bac1-af2d1ed2706e",
    "_uuid": "5a04e71fe7e66e1a31835feebdfef4c63920faf8"
   },
   "source": [
    "Following is the utility function to grab all wav files inside train data folder."
   ]
  },
  {
   "cell_type": "code",
   "execution_count": 15,
   "metadata": {},
   "outputs": [],
   "source": [
    "# my test of this function\n",
    "\n",
    "def list_wavs_fname(dirpath, ext='wav'):\n",
    "    print(dirpath)\n",
    "    fpaths = glob(os.path.join(dirpath, r'*/*' + ext))\n",
    "   # pat = r'.+/(\\w+)/\\w+\\.' + ext + '$'\n",
    "    pat = r'(\\w{1,})'\n",
    "    print(pat)\n",
    "    labels = []\n",
    "    #print(fpaths)        #debug\n",
    "    for fpath in fpaths:\n",
    "        r = re.findall(pat, fpath)\n",
    "        #print(r)     #debug ==>> this is always 'NONE'..so no labels and no fnames\n",
    "        if r:\n",
    "            labels.append(r[2])      # append the label\n",
    "            \n",
    "    #pat = r'.+/(\\w+\\.' + ext + ')$'\n",
    "    fnames = []\n",
    "    for fpath in fpaths:\n",
    "        #r = re.match(pat, fpath)\n",
    "        r = re.findall(pat, fpath)\n",
    "        if r:\n",
    "            newfile = r[3] + '.' + r[4]\n",
    "            #fnames.append(r[3])\n",
    "            fnames.append(newfile)\n",
    "    return labels, fnames\n",
    "\n",
    "#test\n",
    "#labels, fnames = list_wavs_fname(train_data_path)      #debug\n",
    "#print('==>Labels <==')\n",
    "#print(labels)     #debug\n",
    "#print('==>File names <==')\n",
    "#print(fnames)     #debug"
   ]
  },
  {
   "cell_type": "markdown",
   "metadata": {
    "_cell_guid": "41025a55-8497-43cf-b316-003af7d9d19f",
    "_uuid": "fc18e87793888952e81a867dd95b1dcc455f9932"
   },
   "source": [
    "__pad_audio__ will pad audios that are less than 16000(1 second) with 0s to make them all have the same length.\n",
    "\n",
    "__chop_audio__ will chop audios that are larger than 16000(eg. wav files in background noises folder) to 16000 in length. In addition, it will create several chunks out of one large wav files given the parameter 'num'.\n",
    "\n",
    "__label_transform__ transform labels into dummies values. It's used in combination with softmax to predict the label."
   ]
  },
  {
   "cell_type": "code",
   "execution_count": 5,
   "metadata": {
    "_cell_guid": "200c34a1-851a-4447-9ff7-b4e541f090c6",
    "_uuid": "94e40aef3899acfd3ed85557caa66fee5dd47db2"
   },
   "outputs": [],
   "source": [
    "def pad_audio(samples):\n",
    "    if len(samples) >= L: return samples\n",
    "    else: return np.pad(samples, pad_width=(L - len(samples), 0), mode='constant', constant_values=(0, 0))\n",
    "\n",
    "def chop_audio(samples, L=16000, num=20):\n",
    "    for i in range(num):\n",
    "        beg = np.random.randint(0, len(samples) - L)\n",
    "        yield samples[beg: beg + L]\n",
    "\n",
    "def label_transform(labels):\n",
    "    nlabels = []\n",
    "    for label in labels:\n",
    "        if label == '_background_noise_':\n",
    "            nlabels.append('silence')\n",
    "        elif label not in legal_labels:\n",
    "            nlabels.append('unknown')\n",
    "        else:\n",
    "            nlabels.append(label)\n",
    "    return pd.get_dummies(pd.Series(nlabels))"
   ]
  },
  {
   "cell_type": "markdown",
   "metadata": {
    "_cell_guid": "dae2a45a-f7ab-4e84-bc73-688eda6eca8e",
    "_uuid": "267314ef41c459c8b6ab903d721980fdd62b4106"
   },
   "source": [
    "Next, we use functions declared above to generate x_train and y_train.\n",
    "label_index is the index used by pandas to create dummy values, we need to save it for later use.\n",
    "i.e. reads in the .wav files and processes them in to spectograms."
   ]
  },
  {
   "cell_type": "code",
   "execution_count": 6,
   "metadata": {
    "_cell_guid": "4c8d9fdf-ea3e-45fa-b7ef-52542c70b9db",
    "_uuid": "81bc9722dfb036c73721ae44829d429489662e75"
   },
   "outputs": [
    {
     "name": "stdout",
     "output_type": "stream",
     "text": [
      ".\\train\\audio\n",
      "(\\w{1,})\n",
      ".\\train\\audio\n"
     ]
    },
    {
     "name": "stderr",
     "output_type": "stream",
     "text": [
      "C:\\Users\\IBM_ADMIN\\Miniconda3\\envs\\GA\\lib\\site-packages\\scipy\\io\\wavfile.py:273: WavFileWarning: Chunk (non-data) not understood, skipping it.\n",
      "  WavFileWarning)\n"
     ]
    },
    {
     "data": {
      "text/plain": [
       "7"
      ]
     },
     "execution_count": 6,
     "metadata": {},
     "output_type": "execute_result"
    }
   ],
   "source": [
    "labels, fnames = list_wavs_fname(train_data_path)\n",
    "print(train_data_path)     #debug\n",
    "#print(labels)      #debug\n",
    "#print(fnames)      #debug\n",
    "\n",
    "new_sample_rate = 8000\n",
    "#new_sample_rate = 16000     # keep original sample rate\n",
    "y_train = []\n",
    "x_train = []\n",
    "\n",
    "for label, fname in zip(labels, fnames):\n",
    "    #print(\"=> train path, label, file name\") #debug\n",
    "    #print(train_data_path, label, fname)    #debug\n",
    "    sample_rate, samples = wavfile.read(os.path.join(train_data_path, label, fname))\n",
    "    #print(sample_rate, samples)     #debug\n",
    "    samples = pad_audio(samples)\n",
    "    if len(samples) > 16000:\n",
    "        n_samples = chop_audio(samples)\n",
    "    else: n_samples = [samples]\n",
    "    for samples in n_samples:\n",
    "        resampled = signal.resample(samples, int(new_sample_rate / sample_rate * samples.shape[0]))\n",
    "        _, _, specgram = log_specgram(resampled, sample_rate=new_sample_rate)\n",
    "        y_train.append(label)\n",
    "        x_train.append(specgram)\n",
    "x_train = np.array(x_train)\n",
    "x_train = x_train.reshape(tuple(list(x_train.shape) + [1]))\n",
    "y_train = label_transform(y_train)\n",
    "label_index = y_train.columns.values\n",
    "y_train = y_train.values\n",
    "y_train = np.array(y_train)\n",
    "\n",
    "del labels, fnames\n",
    "gc.collect()"
   ]
  },
  {
   "cell_type": "code",
   "execution_count": 11,
   "metadata": {},
   "outputs": [
    {
     "name": "stdout",
     "output_type": "stream",
     "text": [
      "(58356, 99, 161, 1)\n",
      "(58356, 12)\n"
     ]
    }
   ],
   "source": [
    "# my debug box\n",
    "print(x_train.shape)\n",
    "print(y_train.shape)   # 64,841 samples... 12 dimensional matrix"
   ]
  },
  {
   "cell_type": "markdown",
   "metadata": {
    "_cell_guid": "56921cf3-1269-4b29-876d-abdd31eb150a",
    "_uuid": "a87a77b76c42da61ca0bec395c71bef795a9e928"
   },
   "source": [
    "CNN declared below.\n",
    "The specgram created will be of shape (99, 81), but in order to fit into Conv2D layer, we need to reshape it."
   ]
  },
  {
   "cell_type": "code",
   "execution_count": 8,
   "metadata": {
    "_cell_guid": "b97e8887-b593-4d88-95c8-fc8f1dd5ca72",
    "_uuid": "60af394ad8e91fb868ea32dbb6ac6a725b5935c9"
   },
   "outputs": [
    {
     "name": "stdout",
     "output_type": "stream",
     "text": [
      "_________________________________________________________________\n",
      "Layer (type)                 Output Shape              Param #   \n",
      "=================================================================\n",
      "input_1 (InputLayer)         (None, 99, 161, 1)        0         \n",
      "_________________________________________________________________\n",
      "batch_normalization_1 (Batch (None, 99, 161, 1)        4         \n",
      "_________________________________________________________________\n",
      "conv2d_1 (Conv2D)            (None, 98, 160, 8)        40        \n",
      "_________________________________________________________________\n",
      "conv2d_2 (Conv2D)            (None, 97, 159, 8)        264       \n",
      "_________________________________________________________________\n",
      "max_pooling2d_1 (MaxPooling2 (None, 48, 79, 8)         0         \n",
      "_________________________________________________________________\n",
      "dropout_1 (Dropout)          (None, 48, 79, 8)         0         \n",
      "_________________________________________________________________\n",
      "conv2d_3 (Conv2D)            (None, 46, 77, 16)        1168      \n",
      "_________________________________________________________________\n",
      "conv2d_4 (Conv2D)            (None, 44, 75, 16)        2320      \n",
      "_________________________________________________________________\n",
      "max_pooling2d_2 (MaxPooling2 (None, 22, 37, 16)        0         \n",
      "_________________________________________________________________\n",
      "dropout_2 (Dropout)          (None, 22, 37, 16)        0         \n",
      "_________________________________________________________________\n",
      "conv2d_5 (Conv2D)            (None, 20, 35, 32)        4640      \n",
      "_________________________________________________________________\n",
      "max_pooling2d_3 (MaxPooling2 (None, 10, 17, 32)        0         \n",
      "_________________________________________________________________\n",
      "dropout_3 (Dropout)          (None, 10, 17, 32)        0         \n",
      "_________________________________________________________________\n",
      "flatten_1 (Flatten)          (None, 5440)              0         \n",
      "_________________________________________________________________\n",
      "dense_1 (Dense)              (None, 128)               696448    \n",
      "_________________________________________________________________\n",
      "batch_normalization_2 (Batch (None, 128)               512       \n",
      "_________________________________________________________________\n",
      "dense_2 (Dense)              (None, 128)               16512     \n",
      "_________________________________________________________________\n",
      "batch_normalization_3 (Batch (None, 128)               512       \n",
      "_________________________________________________________________\n",
      "dense_3 (Dense)              (None, 12)                1548      \n",
      "=================================================================\n",
      "Total params: 723,968\n",
      "Trainable params: 723,454\n",
      "Non-trainable params: 514\n",
      "_________________________________________________________________\n",
      "Train on 58356 samples, validate on 6485 samples\n",
      "Epoch 1/10\n",
      " - 591s - loss: 1.0806 - acc: 0.6862 - val_loss: 0.5846 - val_acc: 0.8122\n",
      "Epoch 2/10\n",
      " - 606s - loss: 0.5370 - acc: 0.8237 - val_loss: 0.3786 - val_acc: 0.8790\n",
      "Epoch 3/10\n",
      " - 592s - loss: 0.4166 - acc: 0.8643 - val_loss: 0.2889 - val_acc: 0.9115\n",
      "Epoch 4/10\n",
      " - 593s - loss: 0.3542 - acc: 0.8840 - val_loss: 0.2357 - val_acc: 0.9243\n",
      "Epoch 5/10\n",
      " - 592s - loss: 0.3101 - acc: 0.8989 - val_loss: 0.2555 - val_acc: 0.9192\n",
      "Epoch 6/10\n",
      " - 591s - loss: 0.2814 - acc: 0.9079 - val_loss: 0.2151 - val_acc: 0.9291\n",
      "Epoch 7/10\n",
      " - 591s - loss: 0.2592 - acc: 0.9154 - val_loss: 0.1932 - val_acc: 0.9399\n",
      "Epoch 8/10\n",
      " - 592s - loss: 0.2410 - acc: 0.9226 - val_loss: 0.1830 - val_acc: 0.9443\n",
      "Epoch 9/10\n",
      " - 592s - loss: 0.2272 - acc: 0.9255 - val_loss: 0.1818 - val_acc: 0.9403\n",
      "Epoch 10/10\n",
      " - 592s - loss: 0.2121 - acc: 0.9307 - val_loss: 0.1642 - val_acc: 0.9503\n"
     ]
    }
   ],
   "source": [
    "#input_shape = (99, 81, 1)             # 3D tensor\n",
    "input_shape = (99, 161, 1)             # for 16,000 sample rate\n",
    "nclass = 12                           # number of labels\n",
    "inp = Input(shape=input_shape)\n",
    "norm_inp = BatchNormalization()(inp)\n",
    "# 8 = num of convolution filters, 2 = num of rows (& columns)for each convo kernel\n",
    "# step size is (1,1) by default. 'subsample' to change it.\n",
    "# n'relu' activation is performant cheap. NN runs faster.\n",
    "img_1 = Convolution2D(8, kernel_size=2, activation=activations.relu)(norm_inp)\n",
    "img_1 = Convolution2D(8, kernel_size=2, activation=activations.relu)(img_1)\n",
    "# Reduce the num of parameters in the model\n",
    "img_1 = MaxPooling2D(pool_size=(2, 2))(img_1)           # vertical, horizontal dimensions\n",
    "# To reduce over-fitting\n",
    "img_1 = Dropout(rate=0.2)(img_1)                        # fraction of units to drop. increase for more dropout\n",
    "img_1 = Convolution2D(16, kernel_size=3, activation=activations.relu)(img_1)\n",
    "img_1 = Convolution2D(16, kernel_size=3, activation=activations.relu)(img_1)\n",
    "img_1 = MaxPooling2D(pool_size=(2, 2))(img_1)\n",
    "img_1 = Dropout(rate=0.2)(img_1)\n",
    "img_1 = Convolution2D(32, kernel_size=3, activation=activations.relu)(img_1)\n",
    "img_1 = MaxPooling2D(pool_size=(2, 2))(img_1)\n",
    "img_1 = Dropout(rate=0.2)(img_1)\n",
    "img_1 = Flatten()(img_1)                            # Flatten the weights before passing to Dense output layer\n",
    "\n",
    "# First param (128) is the output size of the layer\n",
    "dense_1 = BatchNormalization()(Dense(128, activation=activations.relu)(img_1))\n",
    "dense_1 = BatchNormalization()(Dense(128, activation=activations.relu)(dense_1))\n",
    "# Final layer has output of 12 - same as our label count\n",
    "dense_1 = Dense(nclass, activation=activations.softmax)(dense_1)\n",
    "\n",
    "# Two args required to comile model\n",
    "model = models.Model(inputs=inp, outputs=dense_1)\n",
    "opt = optimizers.Adam()\n",
    "\n",
    "# 1st try\n",
    "#model.compile(optimizer=opt, loss=losses.binary_crossentropy)\n",
    "#model.compile(optimizer=opt, loss=losses.binary_crossentropy, metrics=[]'accuracy'])\n",
    "# 2nd try - change to categorical_crossentropy\n",
    "model.compile(optimizer=opt, loss=losses.categorical_crossentropy, metrics=['accuracy'])\n",
    "model.summary()\n",
    "\n",
    "x_train, x_valid, y_train, y_valid = train_test_split(x_train, y_train, test_size=0.1, random_state=2017)\n",
    "model.fit(x_train, y_train, batch_size=16, validation_data=(x_valid, y_valid), epochs=10, shuffle=True, verbose=2)\n",
    "\n",
    "model.save(os.path.join(model_path, 'cnnCategoricalEpoch10Drop02S16.model'))"
   ]
  },
  {
   "cell_type": "markdown",
   "metadata": {
    "_cell_guid": "060811f5-34ac-4fc2-92ba-c4276606c2a0",
    "_uuid": "2e3fa8d9706f47e69d0b74afcb68280f8a5de706"
   },
   "source": [
    "Test data is way too large to fit in RAM, we need to process them one by one.\n",
    "Generator test_data_generator will create batches of test wav files to feed into CNN."
   ]
  },
  {
   "cell_type": "code",
   "execution_count": 9,
   "metadata": {
    "_cell_guid": "7dfe0801-a636-4123-8367-ab2f19c97800",
    "_uuid": "646b6bcfbde7eae53cd8822b8838c575859e51ce"
   },
   "outputs": [],
   "source": [
    "def test_data_generator(batch=16):\n",
    "    fpaths = glob(os.path.join(test_data_path, '*wav'))\n",
    "    i = 0\n",
    "    for path in fpaths:\n",
    "        if i == 0:\n",
    "            imgs = []\n",
    "            fnames = []\n",
    "        i += 1\n",
    "        rate, samples = wavfile.read(path)\n",
    "        samples = pad_audio(samples)\n",
    "        resampled = signal.resample(samples, int(new_sample_rate / rate * samples.shape[0]))\n",
    "        _, _, specgram = log_specgram(resampled, sample_rate=new_sample_rate)\n",
    "        imgs.append(specgram)\n",
    "        fnames.append(path.split('\\\\')[-1])\n",
    "        if i == batch:\n",
    "            i = 0\n",
    "            imgs = np.array(imgs)\n",
    "            imgs = imgs.reshape(tuple(list(imgs.shape) + [1]))\n",
    "            yield fnames, imgs\n",
    "    if i < batch:\n",
    "        imgs = np.array(imgs)\n",
    "        imgs = imgs.reshape(tuple(list(imgs.shape) + [1]))\n",
    "        yield fnames, imgs\n",
    "    raise StopIteration()"
   ]
  },
  {
   "cell_type": "markdown",
   "metadata": {
    "_cell_guid": "22992a27-deda-4a35-b34c-4aa87ad173ec",
    "_uuid": "c6d2516a6d5bd3c6a108d7e28565edaa65830958"
   },
   "source": [
    "We use the trained model to predict the test data's labels.\n",
    "However, since Kaggle doesn't provide test data, the following sections won't be executed here."
   ]
  },
  {
   "cell_type": "code",
   "execution_count": 10,
   "metadata": {
    "_cell_guid": "7fa8feb8-236e-46c5-8432-014f7e27484d",
    "_uuid": "56194039cac16f5d86a322e67641cbeafda9857d"
   },
   "outputs": [
    {
     "name": "stderr",
     "output_type": "stream",
     "text": [
      "C:\\Users\\IBM_ADMIN\\Miniconda3\\envs\\GA\\lib\\site-packages\\ipykernel_launcher.py:7: DeprecationWarning: generator 'test_data_generator' raised StopIteration\n",
      "  import sys\n"
     ]
    }
   ],
   "source": [
    "#exit() #delete this\n",
    "#del x_train, y_train\n",
    "#gc.collect()\n",
    "\n",
    "index = []\n",
    "results = []\n",
    "for fnames, imgs in test_data_generator(batch=32):\n",
    "    predicts = model.predict(imgs)\n",
    "    predicts = np.argmax(predicts, axis=1)\n",
    "    predicts = [label_index[p] for p in predicts]\n",
    "    index.extend(fnames)\n",
    "    results.extend(predicts)\n",
    "\n",
    "df = pd.DataFrame(columns=['fname', 'label'])\n",
    "df['fname'] = index\n",
    "df['label'] = results\n",
    "df.to_csv(os.path.join(out_path, 'subCEepoch10Drop02.csv'), index=False)"
   ]
  }
 ],
 "metadata": {
  "kernelspec": {
   "display_name": "Python 3",
   "language": "python",
   "name": "python3"
  },
  "language_info": {
   "codemirror_mode": {
    "name": "ipython",
    "version": 3
   },
   "file_extension": ".py",
   "mimetype": "text/x-python",
   "name": "python",
   "nbconvert_exporter": "python",
   "pygments_lexer": "ipython3",
   "version": "3.6.3"
  }
 },
 "nbformat": 4,
 "nbformat_minor": 1
}
